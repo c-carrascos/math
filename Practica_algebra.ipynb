{
  "nbformat": 4,
  "nbformat_minor": 0,
  "metadata": {
    "colab": {
      "provenance": [],
      "include_colab_link": true
    },
    "kernelspec": {
      "name": "python3",
      "display_name": "Python 3"
    },
    "language_info": {
      "name": "python"
    }
  },
  "cells": [
    {
      "cell_type": "markdown",
      "metadata": {
        "id": "view-in-github",
        "colab_type": "text"
      },
      "source": [
        "<a href=\"https://colab.research.google.com/github/c-carrascos/math/blob/main/Practica_algebra.ipynb\" target=\"_parent\"><img src=\"https://colab.research.google.com/assets/colab-badge.svg\" alt=\"Open In Colab\"/></a>"
      ]
    },
    {
      "cell_type": "markdown",
      "source": [
        "# Práctica 3. Álgebra\n",
        "* Para aprender sobre Python vea la playlist [Python para Matemáticas](https://www.youtube.com/playlist?list=PL8gpDXwO-9l4HkDJ9QhB4H-cOiT0BYGau)\n",
        "* Para obtener ideas y vídeos para la resolución de la práctica vea los archivos siguientes: [Ideas](https://github.com/financieras/math/tree/main/ideas)"
      ],
      "metadata": {
        "id": "b13aYMDxmd7v"
      }
    },
    {
      "cell_type": "markdown",
      "source": [
        "## Práctica 3.1\n",
        "**Determinante en Excel**  \n",
        "\n",
        "* Cree un fichero en Excel de nombre algebra.xlsm.\n",
        "* La extensión **xlsm** corresponde a los archivos de Excel habilitados para macros.\n",
        "* Utilice la Hoja 1 para hacer la Práctica 3.1.\n",
        "* Se pide:\n",
        " 1. Cree una matriz cuadrada de dimensión 5×5, formada por números aleatorios enteros entre -9 y +9.\n",
        " 2. Calcule el determinante de esta matriz\n",
        " 3. Cree un programa en **VBA** que busque una matriz de este tipo cuyo determinante sea cero.\n",
        " 4. Copie la matriz encontrada y péguela debajo con \"pegado especial valores\" para que no varíe su contenido al efectuar el recálculo manual de la hoja."
      ],
      "metadata": {
        "id": "XWa9IdzJmpbB"
      }
    },
    {
      "cell_type": "markdown",
      "source": [
        "## Práctica 3.2\n",
        "**Matriz inversa en Excel**  \n",
        "\n",
        "* Use el mismo archivo de Excel con extensión **xlsm** del caso anterior. \n",
        "* Utilice la Hoja 2 para hacer la Práctica 3.2.\n",
        "* Se pide:\n",
        " 1. Crea la matriz $A$ que es una matriz cuadrada de dimensiones 5×5 usando números aleatorios enteros entre -9 y +9, excepto cero\n",
        " 2. Calcule su determinante\n",
        " 3. Calcule su transpuesta usando la función ```TRANSPONER```\n",
        " 4. Calcule su matriz inversa $A^{-1}$\n",
        " 5. Multiplique la matriz $A$ por su inversa $A^{-1}$ y compruebe que el producto es la matriz identidad.\n",
        " $$AA^{-1}=I$$"
      ],
      "metadata": {
        "id": "cP-ppBE1rzGW"
      }
    },
    {
      "cell_type": "markdown",
      "source": [
        "## Práctica 3.3\n",
        "**Resolución de sistemas lineales en Excel**  \n",
        "\n",
        "* Use el mismo archivo de Excel con extensión **xlsm** del caso anterior. \n",
        "* Utilice la Hoja 3 para hacer la Práctica 3.3.\n",
        "* Se pide:\n",
        " 1. Cree un sistema de 5 ecuaciones con 5 incógnitas con **solución única**.\n",
        " 2. Una de las ecuaciones será: $\\quad x_1+2x_2-x_3+x_4-3x_5=6$\n",
        " 3. Muestre las ecuaciones del sistema usando el [editor de ecuaciones](https://support.microsoft.com/es-es/office/editor-de-ecuaciones-6eac7d71-3c74-437b-80d3-c7dea24fdf3f) de Excel. $\\quad Ax=b$\n",
        " 4. Monte la matriz $A$ del sistema de ecuaciones y la matriz $b$ con los términos independientes. Muestre ambas matrices.\n",
        " 5. Calcule la matriz inversa $A^{-1}$\n",
        " 6. Resuelva el sistema lineal de ecuaciones con este método: $\\quad Ax=b \\quad \\Longrightarrow \\quad x=A^{-1}b$\n",
        " 7. Compruebe si el resultado obtenido es la solución del sistema de ecuaciones. Justifique esa comprobación."
      ],
      "metadata": {
        "id": "jJRClauctBdf"
      }
    },
    {
      "cell_type": "markdown",
      "source": [
        "## Práctica 3.4\n",
        "**Matriz inversa en Python**  \n",
        "\n",
        "Desarrolla un código en Python que al ejecutarse consiga los siguientes apartados.  \n",
        "1. Crea una matriz cuadrada de dimensiones 3×3 usando números aleatorios enteros entre -9 y +9, excepto cero\n",
        "2. Buscar un caso donde el determinante sea igual a 1\n",
        "3. Si el determinante es 1 imprime la matriz y su determinante\n",
        "4. Calcula e imprime su transpuesta\n",
        "5. Calcula e imprime su matriz inversa\n",
        "6. Multiplica la matriz creada por su inversa y comprueba que el producto es la matriz identidad.\n",
        "7. Calcula cuantos segundos ha tardado en realizarse el proceso."
      ],
      "metadata": {
        "id": "EMlUZC6Lqzfs"
      }
    },
    {
      "cell_type": "code",
      "source": [
        "import numpy as np\n",
        "from random import randint, choice\n",
        "from time import process_time\n",
        "\n",
        "n = 3   \n",
        "\n",
        "while True:\n",
        "    m = np.random.randint(1,9, size=(n, n))* choice ([1,-1])   # aleatorios enteros entre -9 y +9, sin incluir el 0\n",
        "    determ = np.linalg.det(m)\n",
        "    if determ == 1:\n",
        "        print(m)\n",
        "        break\n",
        "\n",
        "print(f\"El determinante de la matriz es {determ}\")\n",
        "\n",
        "\n",
        "#transpuesta de la matriz:\n",
        "print(\"\\nTasnpuesta:\")\n",
        "print(np.transpose(m))\n",
        "\n",
        "\n",
        "#inversa de la matriz:\n",
        "print(\"\\nInversa:\")\n",
        "minv = np.linalg.inv(m)\n",
        "print(minv)\n",
        "\n",
        "\n",
        "#producto de matriz por su inversa\n",
        "print(\"Matriz Identidad:\")\n",
        "identidad = np.dot(m, minv)   # multiplicación de matrices\n",
        "print(identidad)\n",
        "\n",
        "\n",
        "\n",
        "#tiempo que ha tardado el proceso\n",
        "t1 = process_time()\n",
        "\n",
        "for i in range(10_000_000):\n",
        "    cuadrado = i**2\n",
        "\n",
        "t2 = process_time()\n",
        "print(f\"El proceso ha tardado {t2-t1} segundos.\")"
      ],
      "metadata": {
        "colab": {
          "base_uri": "https://localhost:8080/"
        },
        "id": "3Aph6_Hesw8M",
        "outputId": "4237d1b9-c31d-4866-befd-88e429932ed8"
      },
      "execution_count": null,
      "outputs": [
        {
          "output_type": "stream",
          "name": "stdout",
          "text": [
            "[[3 5 6]\n",
            " [4 7 1]\n",
            " [4 7 2]]\n",
            "El determinante de la matriz es 1.0\n",
            "\n",
            "Tasnpuesta:\n",
            "[[3 4 4]\n",
            " [5 7 7]\n",
            " [6 1 2]]\n",
            "\n",
            "Inversa:\n",
            "[[  7.  32. -37.]\n",
            " [ -4. -18.  21.]\n",
            " [  0.  -1.   1.]]\n",
            "Matriz Identidad:\n",
            "[[1. 0. 0.]\n",
            " [0. 1. 0.]\n",
            " [0. 0. 1.]]\n",
            "El proceso ha tardado 3.408742321999995 segundos.\n"
          ]
        }
      ]
    },
    {
      "cell_type": "markdown",
      "source": [
        "## Práctica 3.5\n",
        "**Resolución de sistemas lineales en Python**  \n",
        "\n",
        "1. Cree un sistema de 4 ecuaciones con 4 incógnitas con **solución única**.\n",
        "2. La solución del sistema es: $\\; \\begin{pmatrix}x_1, x_2, x_3, x_4\\end{pmatrix} = \\begin{pmatrix} 3, 4, 5, 2\\end{pmatrix}$  \n",
        "3. Una de las ecuaciones del sistema es: $\\enspace x_1+3x_2-x_3-2x_4=6$  \n",
        "4. El vector $b$ de términos independientes es: $\\enspace b=\\begin{pmatrix}6, 3, 5, 7\\end{pmatrix}$  \n",
        "5. Usando números aleatorios elija los coeficientes que faltan de la matriz $A$ del sistema de ecuaciones.\n",
        "  - Los coeficientes deben ser números enteros entre -5 y +5, excluido el cero.\n",
        "  - Imprima la matriz $A$.  \n",
        "6. Calcule e imprima el determinante de $A$.\n",
        "7. Calcule e imprima la matriz inversa $A^{-1}$  \n",
        "8. Resuelva el sistema lineal de ecuaciones con este método: $$Ax=b \\quad \\Longrightarrow \\quad x=A^{-1}b$$\n",
        "9. Compruebe que el resultado obtenido es la solución del sistema de ecuaciones.  \n",
        "10. Resuelva nuevamente el sistema de ecuaciones usando ```np.linalg.solve```."
      ],
      "metadata": {
        "id": "tQQS7GPXIdjH"
      }
    },
    {
      "cell_type": "code",
      "source": [
        "import numpy as np\n",
        "np.random.choice([0,1,2,3,4,5,6,7,8,9], 3)\n",
        "\n",
        "\n",
        "list(range(-9,0)) + list(range(1,10))\n",
        "     \n",
        "v = np.array([3,4,5,2])   # vector conocido, es la solución de sistema lineal\n",
        "\n",
        "def busca(b):\n",
        "    while True:\n",
        "        w = np.random.choice(list(range(-5,0)) + list(range(1,6)), 4)\n",
        "        if np.matmul(v, w) == b:   # el producto de los dos vectores debe ser igual al número b\n",
        "            break\n",
        "    return w\n",
        "\n",
        "b =  5; print(f\"{busca(b)} x {v} = {b}\")\n",
        "b = -3; print(f\"{busca(b)} x {v} = {b}\")\n",
        "b = -1; print(f\"{busca(b)} x {v} = {b}\")\n",
        "b = -2; print(f\"{busca(b)} x {v} = {b}\")\n",
        "\n",
        "# Multiplicando a mano el primer vector sería un vector fila y\n",
        "# el segundo un vector columna\n",
        "# Al usar NumPy no nos preocupamos de la congruendia de vectores"
      ],
      "metadata": {
        "colab": {
          "base_uri": "https://localhost:8080/"
        },
        "id": "UIhNRUVnQiFO",
        "outputId": "d85a7641-ea4a-4ce9-d8ff-271f2ba44951"
      },
      "execution_count": 1,
      "outputs": [
        {
          "output_type": "stream",
          "name": "stdout",
          "text": [
            "[-4 -1  3  3] x [3 4 5 2] = 5\n",
            "[ 4 -3 -1  1] x [3 4 5 2] = -3\n",
            "[-1  5 -4  1] x [3 4 5 2] = -1\n",
            "[-2  5 -2 -3] x [3 4 5 2] = -2\n",
            "[[-4, -2, 4, 2], [-5, 2, 4, -5], [-5, 5, -3, 4], [2, 2, -1, -5]]\n",
            "\n"
          ]
        },
        {
          "output_type": "execute_result",
          "data": {
            "text/plain": [
              "array([[-4, -2,  4,  2],\n",
              "       [-5,  2,  4, -5],\n",
              "       [-5,  5, -3,  4],\n",
              "       [ 2,  2, -1, -5]])"
            ]
          },
          "metadata": {},
          "execution_count": 1
        }
      ]
    },
    {
      "cell_type": "code",
      "source": [
        "import numpy as np\n",
        "\n",
        "#matriz A\n",
        "print(\"matriz A:\")\n",
        "f1 = [-4, -2, 4,  2]\n",
        "f2 = [-5,  2,  4, -5]\n",
        "f3 = [-5, 5, -3,  4]\n",
        "f4 = [2,  2, -1, -5]\n",
        "matriz = [f1, f2, f3, f4]\n",
        "print(matriz)\n",
        "print()\n",
        "\n",
        "# m es un ndarray (n dimensional array)\n",
        "m = np.array(matriz)\n",
        "m\n",
        "\n",
        "#determinante de A\n",
        "print(\"Determinante de A:\")\n",
        "print(np.linalg.det(m))\n",
        "\n",
        "#matriz inversa de A\n",
        "print(\"Inversa de A\")\n",
        "print(a_inv)"
      ],
      "metadata": {
        "colab": {
          "base_uri": "https://localhost:8080/"
        },
        "id": "hhE-s__AUOuQ",
        "outputId": "a9dcba61-e5ca-4510-ff35-8be1cf3b5e87"
      },
      "execution_count": 11,
      "outputs": [
        {
          "output_type": "stream",
          "name": "stdout",
          "text": [
            "matriz A:\n",
            "[[-4, -2, 4, 2], [-5, 2, 4, -5], [-5, 5, -3, 4], [2, 2, -1, -5]]\n",
            "\n",
            "Determinante de A:\n",
            "42.0000000000001\n",
            "Inversa de A\n",
            "[[ 0.33333333 -0.33333333  0.33333333]\n",
            " [-0.55555556  1.55555556 -0.88888889]\n",
            " [-0.11111111  1.11111111 -0.77777778]]\n"
          ]
        }
      ]
    },
    {
      "cell_type": "code",
      "source": [
        "#resolucion del sistema mediante la inversa\n",
        "\n",
        "import numpy as np\n",
        "a = np.array([[2,-1,2], [3,2,-1], [4,3,-3]])\n",
        "b = np.array([6,4,1])\n",
        "a_inv = np.linalg.inv(a)\n",
        "np.dot(a_inv, b)\n",
        "\n",
        "     "
      ],
      "metadata": {
        "colab": {
          "base_uri": "https://localhost:8080/"
        },
        "id": "izmL350tUrIw",
        "outputId": "99d584cf-6874-4fdd-f2ee-978538358921"
      },
      "execution_count": 6,
      "outputs": [
        {
          "output_type": "execute_result",
          "data": {
            "text/plain": [
              "array([1., 2., 3.])"
            ]
          },
          "metadata": {},
          "execution_count": 6
        }
      ]
    },
    {
      "cell_type": "code",
      "source": [
        "#resolucion del sistema método solve\n",
        "import numpy as np\n",
        "a = np.array([[2,-1,2], [3,2,-1], [4,3,-3]])\n",
        "b = np.array([6,4,1])\n",
        "solucion = np.linalg.solve(a,b)\n",
        "solucion\n",
        "     "
      ],
      "metadata": {
        "colab": {
          "base_uri": "https://localhost:8080/"
        },
        "id": "vKihYVrNWewL",
        "outputId": "47dc0cde-26d3-48a4-8384-5e24cbc2566c"
      },
      "execution_count": 12,
      "outputs": [
        {
          "output_type": "execute_result",
          "data": {
            "text/plain": [
              "array([1., 2., 3.])"
            ]
          },
          "metadata": {},
          "execution_count": 12
        }
      ]
    },
    {
      "cell_type": "markdown",
      "source": [
        "## Práctica 3.6\n",
        "**Resolución de sistemas lineales con Octave**  \n",
        "\n",
        "1. Tome el mismo sistema 4x4 con solución única del ejercicio anterior.\n",
        "2. Muestra el sistema usando $\\LaTeX$\n",
        "3. Resuélvelo con Octave por dos métodos\n",
        "4. ¿Ambos métodos dan el mismo resultado?"
      ],
      "metadata": {
        "id": "M39ufifh_Jr8"
      }
    },
    {
      "cell_type": "markdown",
      "source": [
        "$\\quad2x - 4y + 5z - t = 5$\n",
        "\n",
        "$\\quad3x - 4y + 4z - 2t = 1$\n",
        "\n",
        "$\\quad-x + 5y - 5z + t = -2$\n",
        "\n",
        "$\\quad4x - 3y - 3z + 2t = -3$"
      ],
      "metadata": {
        "id": "5AIWCfcRs8gu"
      }
    },
    {
      "cell_type": "code",
      "source": [
        "#metodo 1\n",
        "%%writefile primero.m\n",
        "A = [2 -4 5 -1; 3 -4 4 -2; -1 5 -5 1; 4 -3 -3 2]\n",
        "b = [5; -1; -2; -3]\n",
        "x= inv(A)*b\n",
        "% solución 1, rats expresa los número como fracciones o enteros\n",
        "s1 =rats(x)\n"
      ],
      "metadata": {
        "colab": {
          "base_uri": "https://localhost:8080/"
        },
        "id": "PECYERIRsYTA",
        "outputId": "f018a1fb-6a76-44c3-8db7-0a61a572c3e5"
      },
      "execution_count": 16,
      "outputs": [
        {
          "output_type": "stream",
          "name": "stdout",
          "text": [
            "Overwriting primero.m\n"
          ]
        }
      ]
    },
    {
      "cell_type": "code",
      "source": [
        "!octave primero.m\n"
      ],
      "metadata": {
        "colab": {
          "base_uri": "https://localhost:8080/"
        },
        "id": "uh-YoMbFscLo",
        "outputId": "db01629e-297f-43ed-fdd2-d3c1dfbd3eb0"
      },
      "execution_count": 17,
      "outputs": [
        {
          "output_type": "stream",
          "name": "stdout",
          "text": [
            "octave: X11 DISPLAY environment variable not set\n",
            "octave: disabling GUI features\n",
            "A =\n",
            "\n",
            "   2  -4   5  -1\n",
            "   3  -4   4  -2\n",
            "  -1   5  -5   1\n",
            "   4  -3  -3   2\n",
            "\n",
            "b =\n",
            "\n",
            "   5\n",
            "  -1\n",
            "  -2\n",
            "  -3\n",
            "\n",
            "x =\n",
            "\n",
            "   1.0000\n",
            "   2.0000\n",
            "   3.0000\n",
            "   4.0000\n",
            "\n",
            "s1 =\n",
            "\n",
            "          1\n",
            "          2\n",
            "          3\n",
            "          4\n",
            "\n"
          ]
        }
      ]
    },
    {
      "cell_type": "code",
      "source": [
        "#metodo 2\n",
        "%%writefile segundo.m\n",
        "G = [2 -4 5 -1 5; 3 -4 4 -2 -1; -1 5 -5 1 -2; 4 -3 -3 2 -3]\n",
        "escalonada = rref(G)\n",
        "% solución 2\n",
        "s2 = rats(escalonada)\n",
        "     "
      ],
      "metadata": {
        "colab": {
          "base_uri": "https://localhost:8080/"
        },
        "id": "tEvJHXwYstpS",
        "outputId": "de132d82-f4ce-4525-85d6-d1a633cf8e1c"
      },
      "execution_count": 18,
      "outputs": [
        {
          "output_type": "stream",
          "name": "stdout",
          "text": [
            "Writing segundo.m\n"
          ]
        }
      ]
    },
    {
      "cell_type": "code",
      "source": [
        "!octave segundo.m\n",
        "     "
      ],
      "metadata": {
        "colab": {
          "base_uri": "https://localhost:8080/"
        },
        "id": "qL_FcAvSsxKu",
        "outputId": "1ab17f2a-ed85-4fee-b8df-f2a368b5b245"
      },
      "execution_count": 19,
      "outputs": [
        {
          "output_type": "stream",
          "name": "stdout",
          "text": [
            "octave: X11 DISPLAY environment variable not set\n",
            "octave: disabling GUI features\n",
            "G =\n",
            "\n",
            "   2  -4   5  -1   5\n",
            "   3  -4   4  -2  -1\n",
            "  -1   5  -5   1  -2\n",
            "   4  -3  -3   2  -3\n",
            "\n",
            "escalonada =\n",
            "\n",
            "   1.00000   0.00000   0.00000   0.00000   1.00000\n",
            "   0.00000   1.00000   0.00000   0.00000   2.00000\n",
            "   0.00000   0.00000   1.00000   0.00000   3.00000\n",
            "   0.00000   0.00000   0.00000   1.00000   4.00000\n",
            "\n",
            "s2 =\n",
            "\n",
            "          1          0          0          0          1\n",
            "          0          1          0          0          2\n",
            "          0          0          1          0          3\n",
            "          0          0          0          1          4\n",
            "\n"
          ]
        }
      ]
    },
    {
      "cell_type": "markdown",
      "source": [
        "## Práctica 3.7\n",
        "**Diagonalización en Python**\n",
        "\n",
        "* Sea la matriz cuadrada $A$ de orden 4x4\n",
        "\n",
        "$$A=\\left(\n",
        "\\begin{array}{rrrr}\n",
        " -1 &-2 &  3 &-1 \\\\\n",
        "  0 & 2 &  0 & 0 \\\\\n",
        "  0 & 0 &  2 & 0 \\\\\n",
        "  0 & 0 &  0 & 1\n",
        "\\end{array}\n",
        "\\right)$$\n",
        "1. Calcula los **autovalores** y **autovectores**\n",
        "2. Calcula y muestra:\n",
        " - la matriz diagonal $D$\n",
        " - la matriz de paso $P$\n",
        " - su inversa $P^{-1}$  \n",
        "3. Comprueba que se cumple que $A^3=PD^3P^{-1}$"
      ],
      "metadata": {
        "id": "KOhR4DdkL7kg"
      }
    },
    {
      "cell_type": "code",
      "source": [
        "import numpy as np\n",
        "A = np.array([[-3,2,0,0], [-3,4,0,0], [0,0,-5,-4], [0,0,-2,2]])\n",
        "d,P = np.linalg.eig(A)\n",
        "print(\"d: \", d)\n",
        "D = np.diag(d)\n",
        "P_inv = np.linalg.inv(P)\n",
        "print(\"\\nD:\\n\", D)\n",
        "print(\"\\nP:\\n\", P)\n",
        "print(\"\\ninversa de P:\\n\", P_inv)"
      ],
      "metadata": {
        "colab": {
          "base_uri": "https://localhost:8080/"
        },
        "id": "mQcyPcT9pzjf",
        "outputId": "75a8c74d-6490-45c7-9a81-e4a000750e47"
      },
      "execution_count": 3,
      "outputs": [
        {
          "output_type": "stream",
          "name": "stdout",
          "text": [
            "d:  [-2.  3. -6.  3.]\n",
            "\n",
            "D:\n",
            " [[-2.  0.  0.  0.]\n",
            " [ 0.  3.  0.  0.]\n",
            " [ 0.  0. -6.  0.]\n",
            " [ 0.  0.  0.  3.]]\n",
            "\n",
            "P:\n",
            " [[-0.89442719 -0.31622777  0.          0.        ]\n",
            " [-0.4472136  -0.9486833   0.          0.        ]\n",
            " [ 0.          0.         -0.9701425   0.4472136 ]\n",
            " [ 0.          0.         -0.24253563 -0.89442719]]\n",
            "\n",
            "inversa de P:\n",
            " [[-1.34164079  0.4472136  -0.         -0.        ]\n",
            " [ 0.63245553 -1.26491106 -0.         -0.        ]\n",
            " [-0.         -0.         -0.91624569 -0.45812285]\n",
            " [-0.         -0.          0.248452   -0.99380799]]\n"
          ]
        }
      ]
    },
    {
      "cell_type": "code",
      "source": [
        "#compruebo igualdad\n",
        "\n",
        "#calculo Acubo:\n",
        "import numpy as np\n",
        "A = np.array([[-3,2,0,0], [-3,4,0,0], [0,0,-5,-4], [0,0,-2,2]])\n",
        "print(A@A@A)\n",
        "\n",
        "#caalculo P*dcubo*inversaP\n",
        "A = np.array([[-3,2,0,0], [-3,4,0,0], [0,0,-5,-4], [0,0,-2,2]])\n",
        "d,P = np.linalg.eig(A)\n",
        "print(\"d: \", d)\n",
        "D = np.diag(d)\n",
        "print(\"\\nD:\\n\", D)\n",
        "print(\"\\nP:\\n\", P)\n",
        "Dcubo = D @ D @ D\n",
        "print(\"\\nDcubo:\\n\", Dcubo)\n",
        "print(\"\\nSolución:\\n\", P @ Dcubo @ np.linalg.inv(P))\n",
        "print(\"\\nSi, se cumple la igualdad\")"
      ],
      "metadata": {
        "colab": {
          "base_uri": "https://localhost:8080/"
        },
        "id": "XF64CLSlqhqs",
        "outputId": "dfeef93d-4cb3-4f7c-e9d4-85656ec13e53"
      },
      "execution_count": 7,
      "outputs": [
        {
          "output_type": "stream",
          "name": "stdout",
          "text": [
            "[[ -15   14    0    0]\n",
            " [ -21   34    0    0]\n",
            " [   0    0 -189 -108]\n",
            " [   0    0  -54    0]]\n",
            "d:  [-2.  3. -6.  3.]\n",
            "\n",
            "D:\n",
            " [[-2.  0.  0.  0.]\n",
            " [ 0.  3.  0.  0.]\n",
            " [ 0.  0. -6.  0.]\n",
            " [ 0.  0.  0.  3.]]\n",
            "\n",
            "P:\n",
            " [[-0.89442719 -0.31622777  0.          0.        ]\n",
            " [-0.4472136  -0.9486833   0.          0.        ]\n",
            " [ 0.          0.         -0.9701425   0.4472136 ]\n",
            " [ 0.          0.         -0.24253563 -0.89442719]]\n",
            "\n",
            "Dcubo:\n",
            " [[  -8.    0.    0.    0.]\n",
            " [   0.   27.    0.    0.]\n",
            " [   0.    0. -216.    0.]\n",
            " [   0.    0.    0.   27.]]\n",
            "\n",
            "Solución:\n",
            " [[-1.50000000e+01  1.40000000e+01  0.00000000e+00  0.00000000e+00]\n",
            " [-2.10000000e+01  3.40000000e+01  0.00000000e+00  0.00000000e+00]\n",
            " [ 0.00000000e+00  0.00000000e+00 -1.89000000e+02 -1.08000000e+02]\n",
            " [ 0.00000000e+00  0.00000000e+00 -5.40000000e+01 -2.74319149e-15]]\n",
            "\n",
            "Si, se cumple la igualdad\n"
          ]
        }
      ]
    },
    {
      "cell_type": "markdown",
      "source": [
        "## Práctica 3.8\n",
        "**Diagonalización con Octave**\n",
        "\n",
        "Resuelva el ejercicio anterior, pero en esta ocasión utilizando Octave."
      ],
      "metadata": {
        "id": "tqHIq-of_N_v"
      }
    },
    {
      "cell_type": "code",
      "source": [
        "\n",
        "%%writefile diagonaliza.m\n",
        "A = [-3,2,0,0; -3,4,0,0; 0,0,-5,-4; 0,0,-2,2]\n",
        "[P,D]=eig(A)\n",
        "Dcubo = D^3\n",
        "Acubo = A^3\n",
        "PxDcuboXPinv = P*Dcubo*P^-1"
      ],
      "metadata": {
        "colab": {
          "base_uri": "https://localhost:8080/"
        },
        "id": "T1a3IeBIu8P7",
        "outputId": "6bfadd9b-f46a-4125-be6b-b08b566ece0e"
      },
      "execution_count": 20,
      "outputs": [
        {
          "output_type": "stream",
          "name": "stdout",
          "text": [
            "Writing diagonaliza.m\n"
          ]
        }
      ]
    },
    {
      "cell_type": "code",
      "source": [
        "!octave diagonaliza.m"
      ],
      "metadata": {
        "colab": {
          "base_uri": "https://localhost:8080/"
        },
        "id": "gYVVelZtu_N9",
        "outputId": "d6abcdee-ca1d-44a8-c870-b49c897334ee"
      },
      "execution_count": 21,
      "outputs": [
        {
          "output_type": "stream",
          "name": "stdout",
          "text": [
            "octave: X11 DISPLAY environment variable not set\n",
            "octave: disabling GUI features\n",
            "A =\n",
            "\n",
            "  -3   2   0   0\n",
            "  -3   4   0   0\n",
            "   0   0  -5  -4\n",
            "   0   0  -2   2\n",
            "\n",
            "P =\n",
            "\n",
            "  -0.89443  -0.31623   0.00000   0.00000\n",
            "  -0.44721  -0.94868   0.00000   0.00000\n",
            "   0.00000   0.00000  -0.97014   0.44721\n",
            "   0.00000   0.00000  -0.24254  -0.89443\n",
            "\n",
            "D =\n",
            "\n",
            "Diagonal Matrix\n",
            "\n",
            "  -2   0   0   0\n",
            "   0   3   0   0\n",
            "   0   0  -6   0\n",
            "   0   0   0   3\n",
            "\n",
            "Dcubo =\n",
            "\n",
            "Diagonal Matrix\n",
            "\n",
            "    -8     0     0     0\n",
            "     0    27     0     0\n",
            "     0     0  -216     0\n",
            "     0     0     0    27\n",
            "\n",
            "Acubo =\n",
            "\n",
            "   -15    14     0     0\n",
            "   -21    34     0     0\n",
            "     0     0  -189  -108\n",
            "     0     0   -54     0\n",
            "\n",
            "PxDcuboXPinv =\n",
            "\n",
            "   -15.00000    14.00000     0.00000     0.00000\n",
            "   -21.00000    34.00000     0.00000     0.00000\n",
            "     0.00000     0.00000  -189.00000  -108.00000\n",
            "     0.00000     0.00000   -54.00000    -0.00000\n",
            "\n"
          ]
        }
      ]
    },
    {
      "cell_type": "markdown",
      "source": [
        "## Práctica 3.9\n",
        "**Libertad para elegir el lugar de trabajo**  \n",
        "Resolver con **Octave**.\n",
        "\n",
        "Una empresa de 1.000 empleados permite que sus trabajadores cada día acudan a trabajar a la oficina o que realicen su trabajo desde su casa. Inicialmente el 90% de la plantilla trabajaba en la oficina y solo el 10% lo hacían en casa. Se ha observado que los que un día trabajan en casa tienen una probabilidad del 70% de realizarlo también desde casa al día siguiente, pero que en el restante 30% de los casos acuden a la oficina al día siguiente. Por el contrario, se ha observado que los que un día trabajaron en la oficina al día siguiente vuelven\n",
        "a la oficina en el 60% de los casos y en el 40% restante van a su casa al día siguiente.\n",
        "* Determinar qué número de empleados se quedan en casa transcurridos dos días.\n",
        "* ¿Y a largo plazo cuantos se quedan en casa?"
      ],
      "metadata": {
        "id": "Aw283nkjdtcQ"
      }
    },
    {
      "cell_type": "code",
      "source": [
        "\n",
        "!apt install octave\n",
        "!apt update"
      ],
      "metadata": {
        "colab": {
          "base_uri": "https://localhost:8080/"
        },
        "id": "ORHJDc4Tva3l",
        "outputId": "b06997ca-4c37-491f-f782-1e9e6255ccc5"
      },
      "execution_count": 29,
      "outputs": [
        {
          "output_type": "stream",
          "name": "stdout",
          "text": [
            "Reading package lists... Done\n",
            "Building dependency tree       \n",
            "Reading state information... Done\n",
            "octave is already the newest version (4.2.2-1ubuntu1).\n",
            "The following package was automatically installed and is no longer required:\n",
            "  libnvidia-common-460\n",
            "Use 'apt autoremove' to remove it.\n",
            "0 upgraded, 0 newly installed, 0 to remove and 19 not upgraded.\n",
            "Hit:1 https://cloud.r-project.org/bin/linux/ubuntu bionic-cran40/ InRelease\n",
            "Hit:2 http://security.ubuntu.com/ubuntu bionic-security InRelease\n",
            "Hit:3 http://ppa.launchpad.net/c2d4u.team/c2d4u4.0+/ubuntu bionic InRelease\n",
            "Ign:4 https://developer.download.nvidia.com/compute/machine-learning/repos/ubuntu1804/x86_64  InRelease\n",
            "Hit:5 https://developer.download.nvidia.com/compute/cuda/repos/ubuntu1804/x86_64  InRelease\n",
            "Hit:6 http://archive.ubuntu.com/ubuntu bionic InRelease\n",
            "Hit:7 https://developer.download.nvidia.com/compute/machine-learning/repos/ubuntu1804/x86_64  Release\n",
            "Hit:8 http://archive.ubuntu.com/ubuntu bionic-updates InRelease\n",
            "Hit:9 http://ppa.launchpad.net/cran/libgit2/ubuntu bionic InRelease\n",
            "Hit:10 http://archive.ubuntu.com/ubuntu bionic-backports InRelease\n",
            "Hit:12 http://ppa.launchpad.net/deadsnakes/ppa/ubuntu bionic InRelease\n",
            "Hit:13 http://ppa.launchpad.net/graphics-drivers/ppa/ubuntu bionic InRelease\n",
            "Reading package lists... Done\n",
            "Building dependency tree       \n",
            "Reading state information... Done\n",
            "19 packages can be upgraded. Run 'apt list --upgradable' to see them.\n"
          ]
        }
      ]
    },
    {
      "cell_type": "code",
      "source": [
        "\n",
        "%%writefile proceso.m\n",
        "empleados = 1000\n",
        "% state vector\n",
        "inicial = [.9; .1]\n",
        "% transition probability matrix\n",
        "A = [.6, .3; .4, .7]\n",
        "[P,D]=eig(A)\n",
        "Dcuadrado = D^2\n",
        "Acuadrado = A^2\n",
        "PxDcuadradoXPinv = P*Dcuadrado*P^-1\n",
        "dia2 = Acuadrado * inicial\n",
        "disp(\"Nº de empleados que se quedan en casa el segundo día: \"), disp(dia2(2)*empleados)\n",
        "D10 = D^10\n",
        "A10 = P*D10*P^-1\n",
        "dia10 = A10*inicial\n",
        "disp(\"Nº de empleados que se quedan en casa a largo plazo son: \"), disp(dia10(2)*empleados)"
      ],
      "metadata": {
        "colab": {
          "base_uri": "https://localhost:8080/"
        },
        "id": "yMhsh02pvMiW",
        "outputId": "c0e6e16c-2ee1-4dad-9abc-96fc1a3336a0"
      },
      "execution_count": 34,
      "outputs": [
        {
          "output_type": "stream",
          "name": "stdout",
          "text": [
            "Overwriting proceso.m\n"
          ]
        }
      ]
    },
    {
      "cell_type": "code",
      "source": [
        "!octave proceso.m"
      ],
      "metadata": {
        "colab": {
          "base_uri": "https://localhost:8080/"
        },
        "id": "uKk4DfPcvPNO",
        "outputId": "e3fd3913-c2a1-415f-cec4-7ec20ae77e6c"
      },
      "execution_count": 35,
      "outputs": [
        {
          "output_type": "stream",
          "name": "stdout",
          "text": [
            "octave: X11 DISPLAY environment variable not set\n",
            "octave: disabling GUI features\n",
            "empleados =  1000\n",
            "inicial =\n",
            "\n",
            "   0.90000\n",
            "   0.10000\n",
            "\n",
            "A =\n",
            "\n",
            "   0.60000   0.30000\n",
            "   0.40000   0.70000\n",
            "\n",
            "P =\n",
            "\n",
            "  -0.70711  -0.60000\n",
            "   0.70711  -0.80000\n",
            "\n",
            "D =\n",
            "\n",
            "Diagonal Matrix\n",
            "\n",
            "   0.30000         0\n",
            "         0   1.00000\n",
            "\n",
            "Dcuadrado =\n",
            "\n",
            "Diagonal Matrix\n",
            "\n",
            "   0.090000          0\n",
            "          0   1.000000\n",
            "\n",
            "Acuadrado =\n",
            "\n",
            "   0.48000   0.39000\n",
            "   0.52000   0.61000\n",
            "\n",
            "PxDcuadradoXPinv =\n",
            "\n",
            "   0.48000   0.39000\n",
            "   0.52000   0.61000\n",
            "\n",
            "dia2 =\n",
            "\n",
            "   0.47100\n",
            "   0.52900\n",
            "\n",
            "Nº de empleados que se quedan en casa el segundo día: \n",
            " 529\n",
            "D10 =\n",
            "\n",
            "Diagonal Matrix\n",
            "\n",
            "   5.9049e-06            0\n",
            "            0   1.0000e+00\n",
            "\n",
            "A10 =\n",
            "\n",
            "   0.42857   0.42857\n",
            "   0.57143   0.57143\n",
            "\n",
            "dia10 =\n",
            "\n",
            "   0.42857\n",
            "   0.57143\n",
            "\n",
            "Nº de empleados que se quedan en casa a largo plazo son: \n",
            " 571.43\n"
          ]
        }
      ]
    },
    {
      "cell_type": "markdown",
      "source": [
        "## Práctica 3.10\n",
        "**Tendencia del mercado**  \n",
        "Resolver con **Python**.\n",
        "\n",
        "En el mercado de automóviles de gran lujo únicamente se disputan la clientela dos marcas (A y B). Las ventas son $M=100.000$ automóviles anuales, no variando esta cifra con el transcurso de los años. La marca A es líder de mercado en este momento con el 75% de las ventas. Sus directivos desean consolidar su liderazgo e incluso aumentarlo, para lo cual todos los años efectúan una fuerte campaña publicitaria con la que consiguen cada año un 40% de los que fueron clientes de su competidora, aunque la empresa A pierde un 20% de sus clientes que se van a la competencia.\n",
        "* ¿Cuál es la situación a los 3 años?\n",
        "* ¿Y al cabo de mucho tiempo?"
      ],
      "metadata": {
        "id": "lllngWn__QP0"
      }
    },
    {
      "cell_type": "markdown",
      "source": [
        "* Ventas = 100.000\n",
        "* Vector de estado inicial:\n",
        "\n",
        "$$X_0=\\left(\n",
        "\\begin{array}{rrrr}\n",
        " 0.75  \\\\\n",
        "  0.25\n",
        "\\end{array}\n",
        "\\right)$$\n",
        "\n",
        "* Matriz de transición:\n",
        "\n",
        "$$A=\\left(\n",
        "\\begin{array}{rrrr}\n",
        " 0.80 & 0.40 \\\\\n",
        "  0.20 & 0.60 \n",
        "\\end{array}\n",
        "\\right)$$\n",
        "\n",
        "* Estado a los tres años:\n",
        "$X_3$ = $$\\left(\n",
        "\\begin{array}{rrrr}\n",
        " 0.672 \\\\\n",
        "  0.328 \n",
        "\\end{array}\n",
        "\\right)$$\n",
        "\n",
        "* Estado a los veinte años:\n",
        "$X_20$ = $$\\left(\n",
        "\\begin{array}{rrrr}\n",
        " 2/3 \\\\\n",
        "  1/3 \n",
        "\\end{array}\n",
        "\\right)$$\n"
      ],
      "metadata": {
        "id": "84WIpyg5yyhw"
      }
    },
    {
      "cell_type": "markdown",
      "source": [
        "\\"
      ],
      "metadata": {
        "id": "-jfOYS5RxugH"
      }
    },
    {
      "cell_type": "code",
      "source": [
        "import numpy as np\n",
        "\n",
        "X0 = np.array([.75, .25])\n",
        "A = np.array([[.8, .4], [.2 ,.6]])\n",
        "X3 = A@A@A@X0\n",
        "print(\"Situación a los tres años:\", X3)\n",
        "\n",
        "d,P = np.linalg.eig(A)\n",
        "D = np.diag(d)\n",
        "Pinv = np.linalg.inv(P)\n",
        "A10 = P@(D**10)@Pinv\n",
        "X10 = A10@X0\n",
        "print(\"Situación a los diez años:\", X10)\n",
        "print(\"Situación a los veinte años:\", P@(D**20)@Pinv@X0)\n",
        "     "
      ],
      "metadata": {
        "colab": {
          "base_uri": "https://localhost:8080/"
        },
        "id": "BjyfTNscxN3W",
        "outputId": "8ed43a52-676d-4c51-a959-d36d34978aec"
      },
      "execution_count": 36,
      "outputs": [
        {
          "output_type": "stream",
          "name": "stdout",
          "text": [
            "Situación a los tres años: [0.672 0.328]\n",
            "Situación a los diez años: [0.6666754 0.3333246]\n",
            "Situación a los veinte años: [0.66666667 0.33333333]\n"
          ]
        }
      ]
    },
    {
      "cell_type": "code",
      "source": [
        "# A cubo\n",
        "A@A@A\n",
        "     "
      ],
      "metadata": {
        "colab": {
          "base_uri": "https://localhost:8080/"
        },
        "id": "oT617c0pxQn0",
        "outputId": "b4041761-f881-4ae8-9cd6-f5af0c84edc6"
      },
      "execution_count": 37,
      "outputs": [
        {
          "output_type": "execute_result",
          "data": {
            "text/plain": [
              "array([[0.688, 0.624],\n",
              "       [0.312, 0.376]])"
            ]
          },
          "metadata": {},
          "execution_count": 37
        }
      ]
    },
    {
      "cell_type": "code",
      "source": [
        "# comprobación de que esta expresión es igual a A cubo\n",
        "P@(D**3)@Pinv\n",
        "     "
      ],
      "metadata": {
        "colab": {
          "base_uri": "https://localhost:8080/"
        },
        "id": "qpegyPgexXJo",
        "outputId": "9bebb786-25c8-45ee-b035-e2a8eaa57174"
      },
      "execution_count": 38,
      "outputs": [
        {
          "output_type": "execute_result",
          "data": {
            "text/plain": [
              "array([[0.688, 0.624],\n",
              "       [0.312, 0.376]])"
            ]
          },
          "metadata": {},
          "execution_count": 38
        }
      ]
    },
    {
      "cell_type": "code",
      "source": [
        "A@A@A@A@A@A@A@A@A@A"
      ],
      "metadata": {
        "colab": {
          "base_uri": "https://localhost:8080/"
        },
        "id": "iLaYfSUrxYcA",
        "outputId": "33b1bd96-4851-494f-ae0c-04081538c38c"
      },
      "execution_count": 39,
      "outputs": [
        {
          "output_type": "execute_result",
          "data": {
            "text/plain": [
              "array([[0.66670162, 0.66659676],\n",
              "       [0.33329838, 0.33340324]])"
            ]
          },
          "metadata": {},
          "execution_count": 39
        }
      ]
    },
    {
      "cell_type": "code",
      "source": [
        "P@(D**10)@Pinv"
      ],
      "metadata": {
        "colab": {
          "base_uri": "https://localhost:8080/"
        },
        "id": "nmMQ4rLJxcYr",
        "outputId": "9d0aca42-b127-4087-aea5-88bb0e499802"
      },
      "execution_count": 40,
      "outputs": [
        {
          "output_type": "execute_result",
          "data": {
            "text/plain": [
              "array([[0.66670162, 0.66659676],\n",
              "       [0.33329838, 0.33340324]])"
            ]
          },
          "metadata": {},
          "execution_count": 40
        }
      ]
    },
    {
      "cell_type": "code",
      "source": [
        "np.round(A@A@A@A@A@A@A@A@A@A, 12) == np.round(P@(D**10)@Pinv, 12)"
      ],
      "metadata": {
        "colab": {
          "base_uri": "https://localhost:8080/"
        },
        "id": "dt4jADufxhub",
        "outputId": "8847ce64-1fdf-4a21-c55a-f342bb95cca6"
      },
      "execution_count": 41,
      "outputs": [
        {
          "output_type": "execute_result",
          "data": {
            "text/plain": [
              "array([[ True,  True],\n",
              "       [ True,  True]])"
            ]
          },
          "metadata": {},
          "execution_count": 41
        }
      ]
    }
  ]
}